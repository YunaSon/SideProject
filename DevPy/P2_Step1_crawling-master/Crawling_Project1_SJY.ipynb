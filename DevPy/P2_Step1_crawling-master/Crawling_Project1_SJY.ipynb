{
 "cells": [
  {
   "cell_type": "code",
   "execution_count": 14,
   "metadata": {},
   "outputs": [],
   "source": [
    "import bs4\n",
    "from bs4 import BeautifulSoup\n",
    "import requests\n",
    "import urllib.request"
   ]
  },
  {
   "cell_type": "code",
   "execution_count": 15,
   "metadata": {},
   "outputs": [],
   "source": [
    "my_urls = {\"HnM\":\"https://www2.hm.com/nl_be/index.html\",\n",
    "           \"HnM_W\":\"https://www2.hm.com/nl_be/dames/aanbiedingen-en-highlights/most-wanted.html\",\n",
    "           \"HnM_M\":\"https://www2.hm.com/nl_be/heren/nieuwe-artikelen/kleding.html\",\n",
    "           \"G\":\"https://m.giordano.co.kr/shop/big_section.php?cno1=1094#b_prd_basic=4\",\n",
    "           \"W\":\"https://front.wemakeprice.com/category/group/13\",\n",
    "           \"N\" :\"http://www.dailylook.kr/?cafe_mkt=ntbox_a01&NaPm=ct%3Dk217f9bk%7Cci%3D116da5cbe4a1bb25b2f2812870e30b1371513c0c%7Ctr%3Dsbtp%7Csn%3D195623%7Chk%3Da0718e7bf81f416e33856347dc99b9c4a0c01efb\"\n",
    "          }\n",
    "\n",
    "crwalings = [my_urls['HnM_W'],'HnM_M', 'G']"
   ]
  },
  {
   "cell_type": "code",
   "execution_count": 16,
   "metadata": {},
   "outputs": [
    {
     "name": "stdout",
     "output_type": "stream",
     "text": [
      "HnM <Response [403]>\n",
      "HnM_W <Response [403]>\n",
      "HnM_M <Response [403]>\n",
      "G <Response [200]>\n",
      "W <Response [200]>\n",
      "N <Response [403]>\n",
      "====================================\n",
      "[<Response [403]>, <Response [403]>, <Response [403]>, <Response [200]>, <Response [200]>, <Response [403]>]\n"
     ]
    }
   ],
   "source": [
    "#크롤링 가능여부 판별\n",
    "\n",
    "response = []\n",
    "for i in my_urls.keys():\n",
    "    res = requests.get(my_urls[i])\n",
    "    print(i, res)\n",
    "    response.append(requests.get(my_urls[i]))\n",
    "\n",
    "print(\"====================================\")\n",
    "print(response)"
   ]
  },
  {
   "cell_type": "markdown",
   "metadata": {},
   "source": [
    "## <font color='skyblue'> 지오다노 크롤링 </font>\n",
    "\n",
    "남은 작업. \n",
    "- selector for문 만들기\n",
    "- 정규표현식으로 img_url파싱하기"
   ]
  },
  {
   "cell_type": "code",
   "execution_count": 17,
   "metadata": {},
   "outputs": [],
   "source": [
    "# 응답한 항목에 대해서, html파싱을 하기위해 beautifulsoup객체로 저장. \n",
    "\n",
    "G_soup = BeautifulSoup(response[3].content, 'html.parser')\n",
    "W_soup = BeautifulSoup(response[4].content, 'html.parser')"
   ]
  },
  {
   "cell_type": "code",
   "execution_count": 18,
   "metadata": {},
   "outputs": [
    {
     "name": "stdout",
     "output_type": "stream",
     "text": [
      "[<img src=\"https://m.giordano.co.kr/_data/attach/201910/02/3da7cd282d8c65175df7bcbc56e03ceb.jpg\"/>]\n"
     ]
    }
   ],
   "source": [
    "keywords = G_soup.select(\"#prd_basic > li:nth-child(1) > div > div.img > div.prdimg > a > img\")\n",
    "print(keywords)"
   ]
  },
  {
   "cell_type": "code",
   "execution_count": 19,
   "metadata": {},
   "outputs": [],
   "source": [
    "keywords_str = str(keywords)\n",
    "keywords_str\n",
    "img_url = keywords_str[11:95]\n",
    "\n",
    "#urllib.request.urlretrieve(img_url,\"G_W1.jpg\")"
   ]
  },
  {
   "cell_type": "code",
   "execution_count": 20,
   "metadata": {},
   "outputs": [
    {
     "name": "stdout",
     "output_type": "stream",
     "text": [
      "/Users/jooyoungson/P2_Step1_crawling\r\n"
     ]
    }
   ],
   "source": [
    "!pwd"
   ]
  },
  {
   "cell_type": "code",
   "execution_count": 21,
   "metadata": {},
   "outputs": [
    {
     "name": "stdout",
     "output_type": "stream",
     "text": [
      "Crawling_Project1.ipynb G_W1.jpg                \u001b[31mchromedriver\u001b[m\u001b[m\r\n",
      "\u001b[34mCrawling_예제\u001b[m\u001b[m         README.md\r\n"
     ]
    }
   ],
   "source": [
    "!ls"
   ]
  },
  {
   "cell_type": "code",
   "execution_count": 22,
   "metadata": {},
   "outputs": [],
   "source": [
    "import re\n",
    "p = re.compile('ab*')\n",
    "#정규표현식을 컴파일 한다. re.compile의 결과로 돌려주는 객체 p(컴파일된 패턴 객체)를\n",
    "#사용하여 그 이후의 작업을 수행한다. "
   ]
  },
  {
   "cell_type": "markdown",
   "metadata": {},
   "source": [
    "## <font color='skyblue'> HnM 크롤링 </font>"
   ]
  },
  {
   "cell_type": "code",
   "execution_count": 28,
   "metadata": {},
   "outputs": [],
   "source": [
    "from selenium import webdriver\n",
    "import os\n",
    "import os.path\n",
    "import glob\n",
    "import time"
   ]
  },
  {
   "cell_type": "code",
   "execution_count": 29,
   "metadata": {},
   "outputs": [
    {
     "name": "stdout",
     "output_type": "stream",
     "text": [
      "/Users/jooyoungson/P2_Step1_crawling\r\n"
     ]
    }
   ],
   "source": [
    "!pwd"
   ]
  },
  {
   "cell_type": "code",
   "execution_count": 35,
   "metadata": {},
   "outputs": [],
   "source": [
    "driver = webdriver.Chrome('/Users/jooyoungson/P2_Step1_crawling/chromedriver')\n",
    "driver.get(my_urls['HnM_W'])\n",
    "time.sleep(2)\n",
    "\n",
    "a = driver.find_element_by_class_name(\"item-link\")  \n",
    "a.screenshot(\"HnM_W1.png\")\n",
    "\n",
    "#main-content > div.sidebar-plus-content > div > div > div:nth-child(2) > ul > li:nth-child(1) > article > div.image-container > a > img\n",
    "#main-content > div.sidebar-plus-content > div > div > div:nth-child(2) > ul > li:nth-child(3) > article > div.image-container > a > img\n",
    "\n",
    "driver.quit()"
   ]
  },
  {
   "cell_type": "code",
   "execution_count": 36,
   "metadata": {},
   "outputs": [
    {
     "name": "stdout",
     "output_type": "stream",
     "text": [
      "Crawling_Project1.ipynb G_W1.jpg                \u001b[31mchromedriver\u001b[m\u001b[m\r\n",
      "\u001b[34mCrawling_예제\u001b[m\u001b[m         README.md               test.png\r\n"
     ]
    }
   ],
   "source": [
    "!ls"
   ]
  },
  {
   "cell_type": "code",
   "execution_count": null,
   "metadata": {},
   "outputs": [],
   "source": []
  }
 ],
 "metadata": {
  "kernelspec": {
   "display_name": "Python 3",
   "language": "python",
   "name": "python3"
  },
  "language_info": {
   "codemirror_mode": {
    "name": "ipython",
    "version": 3
   },
   "file_extension": ".py",
   "mimetype": "text/x-python",
   "name": "python",
   "nbconvert_exporter": "python",
   "pygments_lexer": "ipython3",
   "version": "3.7.3"
  }
 },
 "nbformat": 4,
 "nbformat_minor": 2
}
