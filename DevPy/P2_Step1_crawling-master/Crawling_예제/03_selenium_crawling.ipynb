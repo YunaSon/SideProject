{
 "cells": [
  {
   "cell_type": "markdown",
   "metadata": {},
   "source": [
    "### selenium\n",
    "- install\n",
    "    - conda install selenium\n",
    "    - To install this package with conda run one of the following:\n",
    "        - conda install -c conda-forge selenium \n",
    "        - conda install -c conda-forge/label/gcc7 selenium \n",
    "        - conda install -c conda-forge/label/cf201901 selenium \n",
    "    - download chrome driver 버전 "
   ]
  },
  {
   "cell_type": "code",
   "execution_count": 47,
   "metadata": {},
   "outputs": [],
   "source": [
    "from selenium import webdriver"
   ]
  },
  {
   "cell_type": "code",
   "execution_count": 48,
   "metadata": {},
   "outputs": [],
   "source": [
    "driver = webdriver.Chrome()"
   ]
  },
  {
   "cell_type": "code",
   "execution_count": 49,
   "metadata": {},
   "outputs": [],
   "source": [
    "#https://darksky.net/dev 사이트를 자동화"
   ]
  },
  {
   "cell_type": "code",
   "execution_count": 50,
   "metadata": {},
   "outputs": [],
   "source": [
    "# 1. 페이지 이동\n",
    "driver.get(\"https://darksky.net/dev\")"
   ]
  },
  {
   "cell_type": "code",
   "execution_count": 28,
   "metadata": {},
   "outputs": [],
   "source": [
    "# 2. 로그인 버튼 클릭\n",
    "selector = \"body > header > div > div > div > div.header-links > nav > ul > li:nth-child(4) > a\"\n",
    "driver.find_element_by_css_selector(selector).click()"
   ]
  },
  {
   "cell_type": "code",
   "execution_count": 36,
   "metadata": {},
   "outputs": [],
   "source": [
    "# 3. 아이디 패스워드 자동 입력\n",
    "ID = \"pdj1224@gmail.com\"\n",
    "PW = \"qwer1234\"\n",
    "\n",
    "#아이디 입력\n",
    "driver.find_element_by_css_selector(\"#email\").send_keys(ID)\n",
    "\n",
    "#패스워드 입력\n",
    "driver.find_element_by_css_selector(\"#password\").send_keys(PW)"
   ]
  },
  {
   "cell_type": "code",
   "execution_count": 35,
   "metadata": {},
   "outputs": [],
   "source": [
    "driver.find_element_by_css_selector(\"#email\").clear()\n",
    "driver.find_element_by_css_selector(\"#password\").clear()"
   ]
  },
  {
   "cell_type": "code",
   "execution_count": 37,
   "metadata": {},
   "outputs": [],
   "source": [
    "# 4. 로그인 버튼 누르기\n",
    "selector_1 = \"body > div.main.wrap.container-fluid > form > div > div > fieldset > div.row.center-xs > div > button\"\n",
    "\n",
    "driver.find_element_by_css_selector(selector_1).click()"
   ]
  },
  {
   "cell_type": "code",
   "execution_count": 38,
   "metadata": {},
   "outputs": [],
   "source": [
    "# 5 Reset Secret key 버튼 클릭\n",
    "selector_2 = \"#reset-key > div > div.col-xs-12.col-sm-6.col-md-4.col-lg-3 > button\"\n",
    "driver.find_element_by_css_selector(selector_2).click()"
   ]
  },
  {
   "cell_type": "code",
   "execution_count": 39,
   "metadata": {},
   "outputs": [],
   "source": [
    "# 6. 알림창의 확인버튼 클릭\n",
    "# 알림창에 대한 객체를 만든다. \n",
    "alert = driver.switch_to.alert\n",
    "alert.accept()"
   ]
  },
  {
   "cell_type": "code",
   "execution_count": 40,
   "metadata": {},
   "outputs": [
    {
     "data": {
      "text/plain": [
       "'acae2584fe2020ac11b6d4ccb75eb0a1'"
      ]
     },
     "execution_count": 40,
     "metadata": {},
     "output_type": "execute_result"
    }
   ],
   "source": [
    "# 7. 키 값을 가져오기 \n",
    "key = driver.find_element_by_css_selector(\"#api-key\").get_attribute(\"value\")\n",
    "key"
   ]
  },
  {
   "cell_type": "code",
   "execution_count": 45,
   "metadata": {},
   "outputs": [],
   "source": [
    "# 8. 브라우저 종료\n",
    "driver.quit()"
   ]
  },
  {
   "cell_type": "code",
   "execution_count": 51,
   "metadata": {},
   "outputs": [],
   "source": [
    "def darksky():\n",
    "    driver = webdriver.Chrome()\n",
    "    \n",
    "    driver.get(\"https://darksky.net/dev\")\n",
    "    \n",
    "    selector = \"body > header > div > div > div > div.header-links > nav > ul > li:nth-child(4) > a\"\n",
    "    driver.find_element_by_css_selector(selector).click()\n",
    "    \n",
    "    ID = \"pdj1224@gmail.com\"\n",
    "    PW = \"qwer1234\"\n",
    "    \n",
    "    driver.find_element_by_css_selector(\"#email\").send_keys(ID)\n",
    "    driver.find_element_by_css_selector(\"#password\").send_keys(PW)\n",
    "    \n",
    "    \n",
    "    selector_1 = \"body > div.main.wrap.container-fluid > form > div > div > fieldset > div.row.center-xs > div > button\"\n",
    "    driver.find_element_by_css_selector(selector_1).click()\n",
    "    \n",
    "    selector_2 = \"#reset-key > div > div.col-xs-12.col-sm-6.col-md-4.col-lg-3 > button\"\n",
    "    driver.find_element_by_css_selector(selector_2).click()\n",
    "\n",
    "\n",
    "    alert = driver.switch_to.alert\n",
    "    alert.accept()\n",
    "    \n",
    "    key = driver.find_element_by_css_selector(\"#api-key\").get_attribute(\"value\")\n",
    "    \n",
    "    driver.quit()\n",
    "    \n",
    "    return key\n"
   ]
  },
  {
   "cell_type": "code",
   "execution_count": 52,
   "metadata": {},
   "outputs": [
    {
     "data": {
      "text/plain": [
       "'51ca5699365ab12dcc1c5298e4e2657f'"
      ]
     },
     "execution_count": 52,
     "metadata": {},
     "output_type": "execute_result"
    }
   ],
   "source": [
    "darksky()"
   ]
  },
  {
   "cell_type": "code",
   "execution_count": null,
   "metadata": {},
   "outputs": [],
   "source": []
  }
 ],
 "metadata": {
  "kernelspec": {
   "display_name": "Python 3",
   "language": "python",
   "name": "python3"
  },
  "language_info": {
   "codemirror_mode": {
    "name": "ipython",
    "version": 3
   },
   "file_extension": ".py",
   "mimetype": "text/x-python",
   "name": "python",
   "nbconvert_exporter": "python",
   "pygments_lexer": "ipython3",
   "version": "3.7.3"
  }
 },
 "nbformat": 4,
 "nbformat_minor": 2
}
