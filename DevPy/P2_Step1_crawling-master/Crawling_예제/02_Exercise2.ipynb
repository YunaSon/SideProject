{
 "cells": [
  {
   "cell_type": "code",
   "execution_count": 8,
   "metadata": {},
   "outputs": [
    {
     "data": {
      "text/plain": [
       "<http.client.HTTPResponse at 0x10d023f28>"
      ]
     },
     "execution_count": 8,
     "metadata": {},
     "output_type": "execute_result"
    }
   ],
   "source": [
    "import urllib.request\n",
    "import re\n",
    "\n",
    "url =\"http://finance.naver.com/item/main.nhn?code=000880\"\n",
    "html = urllib.request.urlopen(url)\n",
    "html_contents = str(html.read().decode(\"ms949\")) \n",
    "html"
   ]
  },
  {
   "cell_type": "code",
   "execution_count": 3,
   "metadata": {},
   "outputs": [
    {
     "name": "stdout",
     "output_type": "stream",
     "text": [
      "2019년 10월 01일 12시 05분 기준 장중\n",
      "종목명 한화\n",
      "종목코드 000880 코스피\n",
      "현재가 25,200 전일대비 하락 50 마이너스 0.20 퍼센트\n",
      "전일가 25,250\n",
      "시가 24,950\n",
      "고가 25,500\n",
      "상한가 32,800\n",
      "저가 24,950\n",
      "하한가 17,700\n",
      "거래량 42,497\n",
      "거래대금 1,072백만\n"
     ]
    }
   ],
   "source": [
    "# 첫 번째 HTML 패턴\n",
    "stock_results = re.findall(\"(\\<dl class=\\\"blind\\\"\\>)([\\s\\S]+?)(\\<\\/dl\\>)\", html_contents)\n",
    "hanwha_stock = stock_results[0]     # 두 개의 튜플 값 중 첫 번째 패턴\n",
    "hanwha_index = hanwha_stock[1]     # 세 개의 튜플 값 중 두 번째 패턴\n",
    "\n",
    "# 주식 정보만 추출함\n",
    "index_list= re.findall(\"(\\<dd\\>)([\\s\\S]+?)(\\<\\/dd\\>)\", hanwha_index)\n",
    "\n",
    "for index in index_list:\n",
    "    print(index[1])   "
   ]
  },
  {
   "cell_type": "code",
   "execution_count": 13,
   "metadata": {},
   "outputs": [
    {
     "data": {
      "text/plain": [
       "([('<dd>', '2019년 10월 01일 12시 05분 기준 장중', '</dd>'),\n",
       "  ('<dd>', '종목명 한화', '</dd>'),\n",
       "  ('<dd>', '종목코드 000880 코스피', '</dd>'),\n",
       "  ('<dd>', '현재가 25,200 전일대비 하락 50 마이너스 0.20 퍼센트', '</dd>'),\n",
       "  ('<dd>', '전일가 25,250', '</dd>'),\n",
       "  ('<dd>', '시가 24,950', '</dd>'),\n",
       "  ('<dd>', '고가 25,500', '</dd>'),\n",
       "  ('<dd>', '상한가 32,800', '</dd>'),\n",
       "  ('<dd>', '저가 24,950', '</dd>'),\n",
       "  ('<dd>', '하한가 17,700', '</dd>'),\n",
       "  ('<dd>', '거래량 42,497', '</dd>'),\n",
       "  ('<dd>', '거래대금 1,072백만', '</dd>')],\n",
       " 12)"
      ]
     },
     "execution_count": 13,
     "metadata": {},
     "output_type": "execute_result"
    }
   ],
   "source": [
    "index_list, len(index_list)"
   ]
  },
  {
   "cell_type": "code",
   "execution_count": 11,
   "metadata": {},
   "outputs": [
    {
     "name": "stdout",
     "output_type": "stream",
     "text": [
      "총 4264 개의 페이지가 확인 되었습니다.\n",
      "(주)한진 연결재무제표기준영업(잠정)실적(공정공시)\n",
      "(주)노바텍 자기주식 취득 결정\n",
      "큐렉소(주) (정정)전환사채권발행결정(제1회차)\n",
      "(주)한글과컴퓨터 대표이사변경\n",
      "(주)한글과컴퓨터 임시주주총회결과\n",
      "한국투자증권(주) 주식워런트증권 권리행사보고서\n",
      "한국투자증권(주) 주식워런트증권 권리행사보고서\n",
      "(주)이더블유케이 조회공시요구(현저한시황변동)에대한답변(중요정보..\n",
      "(주)질경이 증권 발행결과(자율공시)\n",
      "(주)태영건설 단일판매ㆍ공급계약체결\n",
      "현대로템(주) 투자판단 관련 주요경영사항\n",
      "동양네트웍스(주) 조회공시 요구(현저한 시황변동)에 대한 답변(..\n",
      "(주)인트로메딕 (정정)전환사채권발행결정(제9회차)\n",
      "(주)아이에이치큐 임시주주총회 결과\n",
      "(주)네패스 유형자산 취득결정(종속회사의 주요경영사항)\n",
      "(주)네패스 타법인주식및출자증권취득결정(자율공시)\n",
      "한화 ARIRANG 심천차이넥스트증권상장지수투자신탁(주식-파생형..\n",
      "(주)S&T홀딩스 단일판매ㆍ공급계약체결(자회사의 주요경영사항)\n",
      "(주)S&TC 단일판매ㆍ공급계약체결\n",
      "(주)에스티아이 단일판매ㆍ공급계약체결(자율공시)\n"
     ]
    }
   ],
   "source": [
    "from bs4 import BeautifulSoup\n",
    "import requests\n",
    "\n",
    "maximum = 0\n",
    "page = 1\n",
    "\n",
    "url = \"https://finance.naver.com/news/market_notice.nhn\"\n",
    "response = requests.get(url)\n",
    "source = response.text\n",
    "soup = BeautifulSoup(source, \"html.parser\")\n",
    "\n",
    "last_page_a = soup.find(\"td\", {\"class\":\"pgRR\"})\n",
    "value = last_page_a.find(\"a\").get(\"href\")\n",
    "maximum = value.split(\"=\")[1]\n",
    "\n",
    "print(\"총 \" + str(maximum) + \" 개의 페이지가 확인 되었습니다.\")\n",
    "\n",
    "whole_source = \"\"\n",
    "for page_number in range(1, 2):\n",
    "    url = \"https://finance.naver.com/news/market_notice.nhn?&page=\" + str(page_number)\n",
    "    response = requests.get(url)\n",
    "    whole_source = whole_source + response.text\n",
    "    \n",
    "soup = BeautifulSoup(whole_source, \"html.parser\")\n",
    "\n",
    "find_title = soup.select(\"#contentarea_left > div.boardList2 > table > tr > td.publicSubject > a\")\n",
    "for title in find_title:\n",
    "    print(title.text)"
   ]
  },
  {
   "cell_type": "code",
   "execution_count": null,
   "metadata": {},
   "outputs": [],
   "source": []
  }
 ],
 "metadata": {
  "kernelspec": {
   "display_name": "Python 3",
   "language": "python",
   "name": "python3"
  },
  "language_info": {
   "codemirror_mode": {
    "name": "ipython",
    "version": 3
   },
   "file_extension": ".py",
   "mimetype": "text/x-python",
   "name": "python",
   "nbconvert_exporter": "python",
   "pygments_lexer": "ipython3",
   "version": "3.7.3"
  }
 },
 "nbformat": 4,
 "nbformat_minor": 2
}
