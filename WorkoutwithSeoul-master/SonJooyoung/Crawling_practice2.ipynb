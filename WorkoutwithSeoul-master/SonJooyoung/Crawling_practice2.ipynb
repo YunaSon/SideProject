{
 "cells": [
  {
   "cell_type": "markdown",
   "metadata": {},
   "source": [
    "## Crawling사이트"
   ]
  },
  {
   "cell_type": "code",
   "execution_count": 4,
   "metadata": {},
   "outputs": [],
   "source": [
    "crawling_urls = {'공공체육시설_시설별': \"http://data.seoul.go.kr/dataList/datasetView.do?infId=OA-1116&srvType=S&serviceKind=1&currentPageNo=1&searchValue=&searchKey=null\",\n",
    "                 '산과공원': \"https://data.seoul.go.kr/dataList/datasetView.do?infId=OA-12962&srvType=A&serviceKind=1&currentPageNo=1\",\n",
    "                 '체육회': \"https://www.seoulsports.or.kr/home/homeIndex.do\",\n",
    "                 '공공체육시설_종목별': \"http://data.seoul.go.kr/dataList/datasetView.do?infId=OA-1221&srvType=S&serviceKind=1&currentPageNo=1&searchValue=&searchKey=null\",\n",
    "                }"
   ]
  },
  {
   "cell_type": "code",
   "execution_count": 5,
   "metadata": {},
   "outputs": [],
   "source": [
    "import requests\n",
    "from selenium import webdriver\n",
    "import time"
   ]
  },
  {
   "cell_type": "code",
   "execution_count": 7,
   "metadata": {},
   "outputs": [],
   "source": [
    "#웹드라이버 실행 및 페이지 이동\n",
    "driver = webdriver.Chrome()\n",
    "driver.get(crawling_urls['산과공원'])\n",
    "time.sleep(10)\n",
    "\n",
    "driver.find_element_by_css_selector(\"#tabSheet\").click()\n",
    "time.sleep(5)\n",
    "    \n",
    "#csv파일 다운로드 버튼 클릭하기\n",
    "driver.find_element_by_css_selector(\"#Wrapfilter > span:nth-child(3)\").click()\n",
    "time.sleep(5)\n",
    "\n",
    "driver.quit()"
   ]
  },
  {
   "cell_type": "code",
   "execution_count": 33,
   "metadata": {},
   "outputs": [],
   "source": [
    "import pandas as pd\n",
    "import os\n",
    "import os.path\n",
    "import glob"
   ]
  },
  {
   "cell_type": "code",
   "execution_count": 39,
   "metadata": {},
   "outputs": [
    {
     "name": "stdout",
     "output_type": "stream",
     "text": [
      "['/Users/jooyoungson/Downloads/서울시 산과공원 생태관광 정보 (한국어).csv']\n"
     ]
    },
    {
     "data": {
      "text/html": [
       "<div>\n",
       "<style scoped>\n",
       "    .dataframe tbody tr th:only-of-type {\n",
       "        vertical-align: middle;\n",
       "    }\n",
       "\n",
       "    .dataframe tbody tr th {\n",
       "        vertical-align: top;\n",
       "    }\n",
       "\n",
       "    .dataframe thead th {\n",
       "        text-align: right;\n",
       "    }\n",
       "</style>\n",
       "<table border=\"1\" class=\"dataframe\">\n",
       "  <thead>\n",
       "    <tr style=\"text-align: right;\">\n",
       "      <th></th>\n",
       "      <th>키</th>\n",
       "      <th>명칭</th>\n",
       "      <th>대분류</th>\n",
       "      <th>주소</th>\n",
       "      <th>행정 시</th>\n",
       "      <th>행정 구</th>\n",
       "      <th>행정 동</th>\n",
       "      <th>대표전화</th>\n",
       "      <th>면적</th>\n",
       "      <th>지정일</th>\n",
       "      <th>교툥안내</th>\n",
       "    </tr>\n",
       "  </thead>\n",
       "  <tbody>\n",
       "    <tr>\n",
       "      <th>0</th>\n",
       "      <td>BE_IW14-0020</td>\n",
       "      <td>진관내동 생태경관보전지역</td>\n",
       "      <td>생태탐방</td>\n",
       "      <td>은평구 진관동 282-1번지 일대(북한산국립공원 북한산성 입구 주변 습지 )</td>\n",
       "      <td>서울특별시</td>\n",
       "      <td>은평구</td>\n",
       "      <td>진관동</td>\n",
       "      <td>02-2115-7550~5 02-350-1397</td>\n",
       "      <td>16639㎡</td>\n",
       "      <td>2002년 12월 30일</td>\n",
       "      <td>지하철 3호선 구파발역 1번 출구에서 704번 34번 버스를 타고 북한산성 입구에서...</td>\n",
       "    </tr>\n",
       "    <tr>\n",
       "      <th>1</th>\n",
       "      <td>BE_IW14-0109</td>\n",
       "      <td>안산공원</td>\n",
       "      <td>산과공원</td>\n",
       "      <td>서울특별시 서대문구 홍제동 산33번지 일대</td>\n",
       "      <td>서울특별시</td>\n",
       "      <td>서대문구</td>\n",
       "      <td>홍제1동</td>\n",
       "      <td>02-330-1395</td>\n",
       "      <td>NaN</td>\n",
       "      <td>NaN</td>\n",
       "      <td>NaN</td>\n",
       "    </tr>\n",
       "    <tr>\n",
       "      <th>2</th>\n",
       "      <td>BE_IW14-0110</td>\n",
       "      <td>여의도공원</td>\n",
       "      <td>산과공원</td>\n",
       "      <td>서울특별시 영등포구 여의공원로68(여의도동 2번지)</td>\n",
       "      <td>서울특별시</td>\n",
       "      <td>영등포구</td>\n",
       "      <td>여의동</td>\n",
       "      <td>02-761-4079</td>\n",
       "      <td>NaN</td>\n",
       "      <td>NaN</td>\n",
       "      <td>NaN</td>\n",
       "    </tr>\n",
       "    <tr>\n",
       "      <th>3</th>\n",
       "      <td>BE_IW14-0111</td>\n",
       "      <td>염창공원</td>\n",
       "      <td>산과공원</td>\n",
       "      <td>서울 강서구 염창동 산24-1</td>\n",
       "      <td>서울특별시</td>\n",
       "      <td>강서구</td>\n",
       "      <td>염창동</td>\n",
       "      <td>02-2600-4186</td>\n",
       "      <td>NaN</td>\n",
       "      <td>NaN</td>\n",
       "      <td>NaN</td>\n",
       "    </tr>\n",
       "    <tr>\n",
       "      <th>4</th>\n",
       "      <td>BE_IW14-0112</td>\n",
       "      <td>영등포공원</td>\n",
       "      <td>산과공원</td>\n",
       "      <td>서울특별시 영등포구 영등포동 582-3번지</td>\n",
       "      <td>서울특별시</td>\n",
       "      <td>영등포구</td>\n",
       "      <td>영등포본동</td>\n",
       "      <td>02-2670-3715~7</td>\n",
       "      <td>NaN</td>\n",
       "      <td>NaN</td>\n",
       "      <td>NaN</td>\n",
       "    </tr>\n",
       "  </tbody>\n",
       "</table>\n",
       "</div>"
      ],
      "text/plain": [
       "              키             명칭   대분류  \\\n",
       "0  BE_IW14-0020  진관내동 생태경관보전지역  생태탐방   \n",
       "1  BE_IW14-0109           안산공원  산과공원   \n",
       "2  BE_IW14-0110          여의도공원  산과공원   \n",
       "3  BE_IW14-0111           염창공원  산과공원   \n",
       "4  BE_IW14-0112          영등포공원  산과공원   \n",
       "\n",
       "                                           주소   행정 시  행정 구   행정 동  \\\n",
       "0  은평구 진관동 282-1번지 일대(북한산국립공원 북한산성 입구 주변 습지 )  서울특별시   은평구    진관동   \n",
       "1                     서울특별시 서대문구 홍제동 산33번지 일대  서울특별시  서대문구   홍제1동   \n",
       "2                서울특별시 영등포구 여의공원로68(여의도동 2번지)  서울특별시  영등포구    여의동   \n",
       "3                            서울 강서구 염창동 산24-1  서울특별시   강서구    염창동   \n",
       "4                     서울특별시 영등포구 영등포동 582-3번지  서울특별시  영등포구  영등포본동   \n",
       "\n",
       "                         대표전화      면적            지정일  \\\n",
       "0  02-2115-7550~5 02-350-1397  16639㎡  2002년 12월 30일   \n",
       "1                 02-330-1395     NaN            NaN   \n",
       "2                 02-761-4079     NaN            NaN   \n",
       "3                02-2600-4186     NaN            NaN   \n",
       "4              02-2670-3715~7     NaN            NaN   \n",
       "\n",
       "                                                교툥안내  \n",
       "0  지하철 3호선 구파발역 1번 출구에서 704번 34번 버스를 타고 북한산성 입구에서...  \n",
       "1                                                NaN  \n",
       "2                                                NaN  \n",
       "3                                                NaN  \n",
       "4                                                NaN  "
      ]
     },
     "execution_count": 39,
     "metadata": {},
     "output_type": "execute_result"
    }
   ],
   "source": [
    "#다운받은 csv파일 열기\n",
    "_dir = \"/Users/jooyoungson/Downloads/\"\n",
    "files = glob.glob('{}/*.csv'.format(_dir))\n",
    "print(files)\n",
    "\n",
    "#csv파일을 dataframe으로 변환하기\n",
    "f = pd.read_csv(files[0])\n",
    "f.head(5)"
   ]
  },
  {
   "cell_type": "code",
   "execution_count": null,
   "metadata": {},
   "outputs": [],
   "source": []
  },
  {
   "cell_type": "code",
   "execution_count": null,
   "metadata": {},
   "outputs": [],
   "source": []
  },
  {
   "cell_type": "code",
   "execution_count": null,
   "metadata": {},
   "outputs": [],
   "source": []
  },
  {
   "cell_type": "code",
   "execution_count": null,
   "metadata": {},
   "outputs": [],
   "source": []
  },
  {
   "cell_type": "code",
   "execution_count": null,
   "metadata": {},
   "outputs": [],
   "source": []
  },
  {
   "cell_type": "code",
   "execution_count": null,
   "metadata": {},
   "outputs": [],
   "source": []
  },
  {
   "cell_type": "code",
   "execution_count": null,
   "metadata": {},
   "outputs": [],
   "source": []
  },
  {
   "cell_type": "code",
   "execution_count": null,
   "metadata": {},
   "outputs": [],
   "source": []
  },
  {
   "cell_type": "code",
   "execution_count": null,
   "metadata": {},
   "outputs": [],
   "source": []
  },
  {
   "cell_type": "code",
   "execution_count": null,
   "metadata": {},
   "outputs": [],
   "source": []
  },
  {
   "cell_type": "code",
   "execution_count": null,
   "metadata": {},
   "outputs": [],
   "source": []
  },
  {
   "cell_type": "code",
   "execution_count": null,
   "metadata": {},
   "outputs": [],
   "source": []
  },
  {
   "cell_type": "code",
   "execution_count": null,
   "metadata": {},
   "outputs": [],
   "source": []
  },
  {
   "cell_type": "code",
   "execution_count": 15,
   "metadata": {},
   "outputs": [
    {
     "name": "stdout",
     "output_type": "stream",
     "text": [
      "/Users/jooyoungson/Documents/GitHub/ChatBot/chatbotthon\r\n"
     ]
    }
   ],
   "source": [
    "!pwd"
   ]
  },
  {
   "cell_type": "code",
   "execution_count": null,
   "metadata": {},
   "outputs": [],
   "source": [
    "def get_datas():\n",
    "    datas = []\n",
    "    \n",
    "    #전체 주제 목록을 보여주는 페이지로의 요청(request) 객체를 생성\n",
    "    res = requests.get(crawling_urls['산과공원'])\n",
    "    html = req.text\n",
    "    soup = BueatifulSoup(html, 'html.parser')\n",
    "    \n",
    "    divs = "
   ]
  },
  {
   "cell_type": "code",
   "execution_count": 16,
   "metadata": {},
   "outputs": [],
   "source": [
    "!cd .."
   ]
  },
  {
   "cell_type": "code",
   "execution_count": null,
   "metadata": {},
   "outputs": [],
   "source": [
    "import urllib.request\n",
    "import requests\n",
    "from bs4 import BeautifulSoup\n",
    "import time\n",
    "\n",
    "#특정 URL에 접속하는 요청(Request) 객체를 생성\n",
    "request = requests.get(crawling_urls['공공체육시설_시설별'])\n",
    "\n",
    "#접속한 이후의 웹 사이트 소스코드를 추출\n",
    "html = request.text\n",
    "\n",
    "#HTML 소스코드를 파이썬 객체로 변환\n",
    "soup = BeautifulSoup(html, 'html.parser')\n",
    "time.sleep(10)\n",
    "\n",
    "#css선택자를 이용해서 HTML 소스코드를 파이썬 객체로 변환\n",
    "links = soup.select('#Wrapfilter > span:nth-child(3)')\n",
    "\n",
    "print(links)"
   ]
  },
  {
   "cell_type": "code",
   "execution_count": null,
   "metadata": {},
   "outputs": [],
   "source": []
  },
  {
   "cell_type": "code",
   "execution_count": null,
   "metadata": {},
   "outputs": [],
   "source": []
  },
  {
   "cell_type": "code",
   "execution_count": null,
   "metadata": {},
   "outputs": [],
   "source": []
  },
  {
   "cell_type": "code",
   "execution_count": null,
   "metadata": {},
   "outputs": [],
   "source": [
    "from selenium import webdriver\n",
    "from bs4 import BeautifulSoup\n",
    "\n",
    "# 크롬 headless 모드 실행\n",
    "chrome_options = webdriver.ChromeOptions()\n",
    "chrome_options.add_argument('headless')\n",
    "chrome_options.add_argument('--disable-gpu')\n",
    "chrome_options.add_argument('lang=ko_KR')\n",
    "\n",
    "driver = webdriver.Chrome(r'C:\\Users\\USER\\Downloads\\chromedriver_win32\\chromedriver', chrome_options=chrome_options)\n",
    "# 암묵적으로 웹 자원 로드를 위해 3초까지 기다려 준다.\n",
    "driver.implicitly_wait(3)\n",
    "\n",
    "# url에 접근\n",
    "driver.get('https://www.seoulsports.or.kr/home/homeIndex.do')\n",
    "\n",
    "# 메뉴 클릭 후 시민참여프로그램 클릭\n",
    "driver.find_element_by_xpath('//*[@id=\"gnb\"]/div[1]/button/img').click()\n",
    "driver.find_element_by_xpath('//*[@id=\"gnb\"]/div[1]/div/div/ul[2]/li[1]/a').click()\n",
    "\n",
    "# 시민참여프로그램 리스트 가져오기\n",
    "req = driver.page_source\n",
    "soup = BeautifulSoup(req, 'html.parser')\n",
    "programList = soup.select('#gnb > div:nth-child(2) > div > div > ul.mo-gnb > li:nth-child(1) > ul > li > a')\n",
    "\n",
    "data = {}\n",
    "\n",
    "# 시민참여프로그램 중 '접수중'인 프로그램 찾기\n",
    "for i in range(len(programList)-1):\n",
    "    if(i == 0):\n",
    "        driver.find_element_by_xpath('//*[@id=\"gnb\"]/div[1]/div/div/ul[2]/li[1]/ul/li[1]/a').click()\n",
    "\n",
    "    req = driver.page_source\n",
    "    soup = BeautifulSoup(req, 'html.parser')\n",
    "    programs = soup.select('#content > div.table-wrap > ul > li')\n",
    "    \n",
    "    for p in programs:\n",
    "        if('접수중' in p.text):\n",
    "            data[programList[i].text] = p.text\n",
    "            print(p.text)\n",
    "    driver.find_element_by_xpath('//*[@id=\"content\"]/a[2]').click()\n",
    "\n",
    "# json 파일로 저장\n",
    "with open(os.path.join(BASE_DIR, 'programDetail.json'), 'w+') as json_file:\n",
    "    json.dump(data, json_file)\n",
    "\n",
    "proName = None\n",
    "\n",
    "with open(r'C:\\jupyter_project\\SeoulChatbot\\programDetail.json', 'r') as f:\n",
    "    proName = json.load(f)"
   ]
  }
 ],
 "metadata": {
  "kernelspec": {
   "display_name": "Python 3",
   "language": "python",
   "name": "python3"
  },
  "language_info": {
   "codemirror_mode": {
    "name": "ipython",
    "version": 3
   },
   "file_extension": ".py",
   "mimetype": "text/x-python",
   "name": "python",
   "nbconvert_exporter": "python",
   "pygments_lexer": "ipython3",
   "version": "3.7.3"
  }
 },
 "nbformat": 4,
 "nbformat_minor": 2
}
