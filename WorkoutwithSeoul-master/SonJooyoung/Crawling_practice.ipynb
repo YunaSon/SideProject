{
 "cells": [
  {
   "cell_type": "code",
   "execution_count": 3,
   "metadata": {},
   "outputs": [
    {
     "name": "stdout",
     "output_type": "stream",
     "text": [
      "mkdir= ./data.seoul.go.kr/dataList\n",
      "download= https://data.seoul.go.kr/dataList/datasetView.do?infId=OA-2266&srvType=S&serviceKind=1&currentPageNo=1\n",
      "다운 실패:  https://data.seoul.go.kr/dataList/datasetView.do?infId=OA-2266&srvType=S&serviceKind=1&currentPageNo=1\n"
     ]
    }
   ],
   "source": [
    "from bs4 import BeautifulSoup\n",
    "from urllib.request import *\n",
    "from urllib.parse import *\n",
    "from os import makedirs\n",
    "import os.path, time, re\n",
    "\n",
    "#이미 처리한 파일인지 확인하기 위한 변수\n",
    "proc_files = []\n",
    "\n",
    "#HTML 내부에 있는 링크를 추출하는 함수\n",
    "def enum_links(html, base):\n",
    "    soup = BeautifulSoup(html, \"html.parser\")\n",
    "    links = soup/select(\"link[re='stylesheet']\")\n",
    "    links += soup.select(\"a[href]\")\n",
    "    result = []\n",
    "\n",
    "    for a in links:\n",
    "        href = a.attrs['href']\n",
    "        url = urljoin(base, href)\n",
    "        result.append(url)\n",
    "    return result\n",
    "\n",
    "# 파일을 다운받고 저장하는 함수\n",
    "def download_file(url):\n",
    "    o = urlparse(url)\n",
    "    savepath = \"./\" + o.netloc + o.path\n",
    "    if re.search(r\"/$\", savepath):\n",
    "        savepath += \"index.html\"\n",
    "    savedir = os.path.dirname(savepath)\n",
    "    # 모두 다운됐는지 확인\n",
    "    if os.path.exists(savepath): return savepath\n",
    "    # 다운받을 폴더 생성\n",
    "    if not os.path.exists(savedir):\n",
    "        print(\"mkdir=\", savedir)\n",
    "        makedirs(savedir)\n",
    "    # 파일 다운받기\n",
    "    try:\n",
    "        print(\"download=\", url)\n",
    "        urlretrieve(url, savepath)\n",
    "        time.sleep(1)\n",
    "    except:\n",
    "        print(\"다운 실패: \", url)\n",
    "        return None\n",
    "\n",
    "#HTML을 분석하고 다운받는 함수\n",
    "def analyze_html(url, root_url):\n",
    "    savepath = download_file(url)\n",
    "    if savepath is None: return\n",
    "    if savepath in proc_files: # 이미 처리됐다면 실행하지 않음\n",
    "        proc_files[savepath] = True\n",
    "        print(\"analyze_html=\", url)\n",
    "    #링크 추출\n",
    "    html = open(savepath, 'r', encoding='utf-8').read()\n",
    "    links = enum_links(html, url)\n",
    "\n",
    "    for link_url in links:\n",
    "        #링크가 루트 이외의 경로를 나타낸다면 무시\n",
    "        if link_url.find(root_url) != 0:\n",
    "            if not re.search(r\".css$\", link_url): continue\n",
    "        #HTML이라면\n",
    "        if re.search(r\".(html|htm)$\", link_url):\n",
    "            #재귀적으로 HTML 파일 분석하기\n",
    "            analyze_html(link_url, root_url)\n",
    "        # 기타파일\n",
    "        download_file(link_url)\n",
    "\n",
    "if __name__ ==\"__main__\":\n",
    "    # url에 있는 모든 것 다운받기\n",
    "    url = \"https://data.seoul.go.kr/dataList/datasetView.do?infId=OA-2266&srvType=S&serviceKind=1&currentPageNo=1\"\n",
    "    analyze_html(url, url)"
   ]
  },
  {
   "cell_type": "code",
   "execution_count": 4,
   "metadata": {},
   "outputs": [
    {
     "name": "stdout",
     "output_type": "stream",
     "text": [
      "1_1_01_download-ip.py            1_2_06_bs-usd.py\r\n",
      "1_1_02_download-forecast.py      1_3_01_books.html\r\n",
      "1_1_03_download-forecast-argv.py 1_3_01_sel-book.py\r\n",
      "1_2_01_bs-test1.py               1_3_01_sel-dongju.ipynb\r\n",
      "1_2_02_bs-link.py                1_4_01_cr-getall.ipynb\r\n",
      "1_2_03_bs-test2.py               \u001b[34mdata.seoul.go.kr\u001b[m\u001b[m\r\n",
      "1_2_04_bs-forecast.py            \u001b[34mdocs.python.org\u001b[m\u001b[m\r\n",
      "1_2_05_bs-select.py\r\n"
     ]
    }
   ],
   "source": [
    "!ls"
   ]
  },
  {
   "cell_type": "code",
   "execution_count": null,
   "metadata": {},
   "outputs": [],
   "source": []
  }
 ],
 "metadata": {
  "kernelspec": {
   "display_name": "Python 3",
   "language": "python",
   "name": "python3"
  },
  "language_info": {
   "codemirror_mode": {
    "name": "ipython",
    "version": 3
   },
   "file_extension": ".py",
   "mimetype": "text/x-python",
   "name": "python",
   "nbconvert_exporter": "python",
   "pygments_lexer": "ipython3",
   "version": "3.7.3"
  }
 },
 "nbformat": 4,
 "nbformat_minor": 2
}
